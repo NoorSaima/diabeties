{
 "cells": [
  {
   "cell_type": "code",
   "execution_count": 2,
   "metadata": {},
   "outputs": [],
   "source": [
    "# Step 1: Load Data\n",
    "import pandas as pd\n",
    "from sklearn.model_selection import train_test_split\n",
    "data = pd.read_csv(\"diabetes.csv\")\n",
    "\n",
    "# Step 2: Preprocess\n",
    "from sklearn.impute import SimpleImputer\n",
    "imputer = SimpleImputer(strategy='mean')\n",
    "data[['Glucose','BMI']] = imputer.fit_transform(data[['Glucose','BMI']])\n",
    "\n",
    "# Step 3: Feature Selection (IG)\n",
    "from sklearn.feature_selection import mutual_info_classif\n",
    "X = data.drop(\"Outcome\", axis=1)\n",
    "y = data[\"Outcome\"]\n",
    "ig = mutual_info_classif(X, y)\n",
    "ig_scores = pd.Series(ig, index=X.columns).sort_values(ascending=False)\n",
    "\n",
    "# Step 4: Apply Thresholds\n",
    "thresholds = [0.01, 0.05, 0.1]\n",
    "selected_features = {thresh: ig_scores[ig_scores >= thresh].index.tolist() for thresh in thresholds}"
   ]
  },
  {
   "cell_type": "code",
   "execution_count": 3,
   "metadata": {},
   "outputs": [],
   "source": [
    "from sklearn.tree import DecisionTreeClassifier\n",
    "from sklearn.neighbors import KNeighborsClassifier\n",
    "from sklearn.naive_bayes import GaussianNB\n",
    "from sklearn.metrics import accuracy_score\n",
    "\n",
    "models = {\n",
    "    \"Decision Tree\": DecisionTreeClassifier(),\n",
    "    \"k-NN\": KNeighborsClassifier(),\n",
    "    \"Naive Bayes\": GaussianNB()\n",
    "}\n",
    "\n",
    "results = []\n",
    "for thresh, features in selected_features.items():\n",
    "    X_sub = X[features]\n",
    "    X_train, X_test, y_train, y_test = train_test_split(X_sub, y, test_size=0.3)\n",
    "    \n",
    "    for name, model in models.items():\n",
    "        model.fit(X_train, y_train)\n",
    "        y_pred = model.predict(X_test)\n",
    "        results.append({\n",
    "            \"Threshold\": thresh,\n",
    "            \"Model\": name,\n",
    "            \"Accuracy\": accuracy_score(y_test, y_pred)\n",
    "        })"
   ]
  }
 ],
 "metadata": {
  "kernelspec": {
   "display_name": "Python 3",
   "language": "python",
   "name": "python3"
  },
  "language_info": {
   "codemirror_mode": {
    "name": "ipython",
    "version": 3
   },
   "file_extension": ".py",
   "mimetype": "text/x-python",
   "name": "python",
   "nbconvert_exporter": "python",
   "pygments_lexer": "ipython3",
   "version": "3.13.2"
  }
 },
 "nbformat": 4,
 "nbformat_minor": 2
}
